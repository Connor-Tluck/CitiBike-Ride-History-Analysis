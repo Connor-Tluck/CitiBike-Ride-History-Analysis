{
 "cells": [
  {
   "cell_type": "code",
   "execution_count": 1,
   "metadata": {},
   "outputs": [],
   "source": [
    "import os\n",
    "import gmaps\n",
    "import googlemaps\n",
    "\n",
    "import polyline\n",
    "import calendar\n",
    "import folium\n",
    "\n",
    "import pandas as pd\n",
    "import seaborn as sns\n",
    "from matplotlib import pyplot as plt\n",
    "%matplotlib inline\n"
   ]
  },
  {
   "cell_type": "code",
   "execution_count": 2,
   "metadata": {},
   "outputs": [
    {
     "name": "stdout",
     "output_type": "stream",
     "text": [
      "<class 'pandas.core.frame.DataFrame'>\n",
      "RangeIndex: 577703 entries, 0 to 577702\n",
      "Data columns (total 15 columns):\n",
      "tripduration               577703 non-null int64\n",
      "starttime                  577703 non-null datetime64[ns]\n",
      "stoptime                   577703 non-null datetime64[ns]\n",
      "start station id           577703 non-null int64\n",
      "start station name         577703 non-null object\n",
      "start station latitude     577703 non-null float64\n",
      "start station longitude    577703 non-null float64\n",
      "end station id             559644 non-null float64\n",
      "end station name           559644 non-null object\n",
      "end station latitude       559644 non-null float64\n",
      "end station longitude      559644 non-null float64\n",
      "bikeid                     577703 non-null int64\n",
      "usertype                   577703 non-null object\n",
      "birth year                 337382 non-null float64\n",
      "gender                     577703 non-null int64\n",
      "dtypes: datetime64[ns](2), float64(6), int64(4), object(3)\n",
      "memory usage: 66.1+ MB\n"
     ]
    }
   ],
   "source": [
    "#data import and clean (2 of 2)\n",
    "\n",
    "\n",
    "#import general rider data from city bike website\n",
    "bike_data = pd.read_csv(\"/Users/connortluck/Desktop/201306-citibike-tripdata.csv\")\n",
    "#format columns for date time for later use. \n",
    "bike_data[\"starttime\"] = pd.to_datetime(bike_data[\"starttime\"])\n",
    "bike_data[\"stoptime\"] = pd.to_datetime(bike_data[\"stoptime\"])\n",
    "bike_data.info()"
   ]
  },
  {
   "cell_type": "code",
   "execution_count": 3,
   "metadata": {},
   "outputs": [
    {
     "data": {
      "text/html": [
       "<div>\n",
       "<style scoped>\n",
       "    .dataframe tbody tr th:only-of-type {\n",
       "        vertical-align: middle;\n",
       "    }\n",
       "\n",
       "    .dataframe tbody tr th {\n",
       "        vertical-align: top;\n",
       "    }\n",
       "\n",
       "    .dataframe thead th {\n",
       "        text-align: right;\n",
       "    }\n",
       "</style>\n",
       "<table border=\"1\" class=\"dataframe\">\n",
       "  <thead>\n",
       "    <tr style=\"text-align: right;\">\n",
       "      <th></th>\n",
       "      <th>tripduration</th>\n",
       "      <th>starttime</th>\n",
       "      <th>stoptime</th>\n",
       "      <th>start station id</th>\n",
       "      <th>start station name</th>\n",
       "      <th>start station latitude</th>\n",
       "      <th>start station longitude</th>\n",
       "      <th>end station id</th>\n",
       "      <th>end station name</th>\n",
       "      <th>end station latitude</th>\n",
       "      <th>end station longitude</th>\n",
       "      <th>bikeid</th>\n",
       "      <th>usertype</th>\n",
       "      <th>birth year</th>\n",
       "      <th>gender</th>\n",
       "    </tr>\n",
       "  </thead>\n",
       "  <tbody>\n",
       "    <tr>\n",
       "      <td>0</td>\n",
       "      <td>695</td>\n",
       "      <td>2013-06-01 00:00:01</td>\n",
       "      <td>2013-06-01 00:11:36</td>\n",
       "      <td>444</td>\n",
       "      <td>Broadway &amp; W 24 St</td>\n",
       "      <td>40.742354</td>\n",
       "      <td>-73.989151</td>\n",
       "      <td>434.0</td>\n",
       "      <td>9 Ave &amp; W 18 St</td>\n",
       "      <td>40.743174</td>\n",
       "      <td>-74.003664</td>\n",
       "      <td>19678</td>\n",
       "      <td>Subscriber</td>\n",
       "      <td>1983.0</td>\n",
       "      <td>1</td>\n",
       "    </tr>\n",
       "    <tr>\n",
       "      <td>1</td>\n",
       "      <td>693</td>\n",
       "      <td>2013-06-01 00:00:08</td>\n",
       "      <td>2013-06-01 00:11:41</td>\n",
       "      <td>444</td>\n",
       "      <td>Broadway &amp; W 24 St</td>\n",
       "      <td>40.742354</td>\n",
       "      <td>-73.989151</td>\n",
       "      <td>434.0</td>\n",
       "      <td>9 Ave &amp; W 18 St</td>\n",
       "      <td>40.743174</td>\n",
       "      <td>-74.003664</td>\n",
       "      <td>16649</td>\n",
       "      <td>Subscriber</td>\n",
       "      <td>1984.0</td>\n",
       "      <td>1</td>\n",
       "    </tr>\n",
       "    <tr>\n",
       "      <td>2</td>\n",
       "      <td>2059</td>\n",
       "      <td>2013-06-01 00:00:44</td>\n",
       "      <td>2013-06-01 00:35:03</td>\n",
       "      <td>406</td>\n",
       "      <td>Hicks St &amp; Montague St</td>\n",
       "      <td>40.695128</td>\n",
       "      <td>-73.995951</td>\n",
       "      <td>406.0</td>\n",
       "      <td>Hicks St &amp; Montague St</td>\n",
       "      <td>40.695128</td>\n",
       "      <td>-73.995951</td>\n",
       "      <td>19599</td>\n",
       "      <td>Customer</td>\n",
       "      <td>NaN</td>\n",
       "      <td>0</td>\n",
       "    </tr>\n",
       "    <tr>\n",
       "      <td>3</td>\n",
       "      <td>123</td>\n",
       "      <td>2013-06-01 00:01:04</td>\n",
       "      <td>2013-06-01 00:03:07</td>\n",
       "      <td>475</td>\n",
       "      <td>E 15 St &amp; Irving Pl</td>\n",
       "      <td>40.735243</td>\n",
       "      <td>-73.987586</td>\n",
       "      <td>262.0</td>\n",
       "      <td>Washington Park</td>\n",
       "      <td>40.691782</td>\n",
       "      <td>-73.973730</td>\n",
       "      <td>16352</td>\n",
       "      <td>Subscriber</td>\n",
       "      <td>1960.0</td>\n",
       "      <td>1</td>\n",
       "    </tr>\n",
       "  </tbody>\n",
       "</table>\n",
       "</div>"
      ],
      "text/plain": [
       "   tripduration           starttime            stoptime  start station id  \\\n",
       "0           695 2013-06-01 00:00:01 2013-06-01 00:11:36               444   \n",
       "1           693 2013-06-01 00:00:08 2013-06-01 00:11:41               444   \n",
       "2          2059 2013-06-01 00:00:44 2013-06-01 00:35:03               406   \n",
       "3           123 2013-06-01 00:01:04 2013-06-01 00:03:07               475   \n",
       "\n",
       "       start station name  start station latitude  start station longitude  \\\n",
       "0      Broadway & W 24 St               40.742354               -73.989151   \n",
       "1      Broadway & W 24 St               40.742354               -73.989151   \n",
       "2  Hicks St & Montague St               40.695128               -73.995951   \n",
       "3     E 15 St & Irving Pl               40.735243               -73.987586   \n",
       "\n",
       "   end station id        end station name  end station latitude  \\\n",
       "0           434.0         9 Ave & W 18 St             40.743174   \n",
       "1           434.0         9 Ave & W 18 St             40.743174   \n",
       "2           406.0  Hicks St & Montague St             40.695128   \n",
       "3           262.0         Washington Park             40.691782   \n",
       "\n",
       "   end station longitude  bikeid    usertype  birth year  gender  \n",
       "0             -74.003664   19678  Subscriber      1983.0       1  \n",
       "1             -74.003664   16649  Subscriber      1984.0       1  \n",
       "2             -73.995951   19599    Customer         NaN       0  \n",
       "3             -73.973730   16352  Subscriber      1960.0       1  "
      ]
     },
     "execution_count": 3,
     "metadata": {},
     "output_type": "execute_result"
    }
   ],
   "source": [
    "#here is the general bike data import head, we will need to \n",
    "#create a dataframe of just station location information to \n",
    "#join with our personal data. \n",
    "bike_data.head(4)"
   ]
  },
  {
   "cell_type": "code",
   "execution_count": 4,
   "metadata": {},
   "outputs": [
    {
     "data": {
      "text/html": [
       "<div>\n",
       "<style scoped>\n",
       "    .dataframe tbody tr th:only-of-type {\n",
       "        vertical-align: middle;\n",
       "    }\n",
       "\n",
       "    .dataframe tbody tr th {\n",
       "        vertical-align: top;\n",
       "    }\n",
       "\n",
       "    .dataframe thead th {\n",
       "        text-align: right;\n",
       "    }\n",
       "</style>\n",
       "<table border=\"1\" class=\"dataframe\">\n",
       "  <thead>\n",
       "    <tr style=\"text-align: right;\">\n",
       "      <th></th>\n",
       "      <th>start station id</th>\n",
       "      <th>start station latitude</th>\n",
       "      <th>start station longitude</th>\n",
       "      <th>start station name</th>\n",
       "    </tr>\n",
       "  </thead>\n",
       "  <tbody>\n",
       "    <tr>\n",
       "      <td>0</td>\n",
       "      <td>444</td>\n",
       "      <td>40.742354</td>\n",
       "      <td>-73.989151</td>\n",
       "      <td>Broadway &amp; W 24 St</td>\n",
       "    </tr>\n",
       "    <tr>\n",
       "      <td>1</td>\n",
       "      <td>444</td>\n",
       "      <td>40.742354</td>\n",
       "      <td>-73.989151</td>\n",
       "      <td>Broadway &amp; W 24 St</td>\n",
       "    </tr>\n",
       "    <tr>\n",
       "      <td>2</td>\n",
       "      <td>406</td>\n",
       "      <td>40.695128</td>\n",
       "      <td>-73.995951</td>\n",
       "      <td>Hicks St &amp; Montague St</td>\n",
       "    </tr>\n",
       "    <tr>\n",
       "      <td>3</td>\n",
       "      <td>475</td>\n",
       "      <td>40.735243</td>\n",
       "      <td>-73.987586</td>\n",
       "      <td>E 15 St &amp; Irving Pl</td>\n",
       "    </tr>\n",
       "  </tbody>\n",
       "</table>\n",
       "</div>"
      ],
      "text/plain": [
       "   start station id  start station latitude  start station longitude  \\\n",
       "0               444               40.742354               -73.989151   \n",
       "1               444               40.742354               -73.989151   \n",
       "2               406               40.695128               -73.995951   \n",
       "3               475               40.735243               -73.987586   \n",
       "\n",
       "       start station name  \n",
       "0      Broadway & W 24 St  \n",
       "1      Broadway & W 24 St  \n",
       "2  Hicks St & Montague St  \n",
       "3     E 15 St & Irving Pl  "
      ]
     },
     "execution_count": 4,
     "metadata": {},
     "output_type": "execute_result"
    }
   ],
   "source": [
    "#clip into a dataframe for future join with our data. \n",
    "station_info = bike_data[['start station id','start station latitude','start station longitude','start station name']]\n",
    "station_info.head(4)"
   ]
  },
  {
   "cell_type": "code",
   "execution_count": 5,
   "metadata": {},
   "outputs": [
    {
     "data": {
      "text/html": [
       "<div>\n",
       "<style scoped>\n",
       "    .dataframe tbody tr th:only-of-type {\n",
       "        vertical-align: middle;\n",
       "    }\n",
       "\n",
       "    .dataframe tbody tr th {\n",
       "        vertical-align: top;\n",
       "    }\n",
       "\n",
       "    .dataframe thead th {\n",
       "        text-align: right;\n",
       "    }\n",
       "</style>\n",
       "<table border=\"1\" class=\"dataframe\">\n",
       "  <thead>\n",
       "    <tr style=\"text-align: right;\">\n",
       "      <th></th>\n",
       "      <th>Unnamed: 0</th>\n",
       "      <th>Start</th>\n",
       "      <th>End</th>\n",
       "      <th>Duration</th>\n",
       "    </tr>\n",
       "  </thead>\n",
       "  <tbody>\n",
       "    <tr>\n",
       "      <td>0</td>\n",
       "      <td>NaN</td>\n",
       "      <td>08/17/2019 3:37:14 PM\\nPier 40 - Hudson River ...</td>\n",
       "      <td>08/17/2019 4:12:41 PM\\nE 2 St &amp; Avenue B</td>\n",
       "      <td>35 min 27 s</td>\n",
       "    </tr>\n",
       "    <tr>\n",
       "      <td>1</td>\n",
       "      <td>NaN</td>\n",
       "      <td>08/16/2019 4:45:24 PM\\nBroadway &amp; W 37 St</td>\n",
       "      <td>08/16/2019 5:08:00 PM\\nE 2 St &amp; Avenue B</td>\n",
       "      <td>22 min 36 s</td>\n",
       "    </tr>\n",
       "    <tr>\n",
       "      <td>2</td>\n",
       "      <td>NaN</td>\n",
       "      <td>08/15/2019 11:39:15 PM\\nRivington St &amp; Chrysti...</td>\n",
       "      <td>08/15/2019 11:43:54 PM\\nE 2 St &amp; Avenue B</td>\n",
       "      <td>4 min 39 s</td>\n",
       "    </tr>\n",
       "    <tr>\n",
       "      <td>3</td>\n",
       "      <td>NaN</td>\n",
       "      <td>08/15/2019 6:48:03 PM\\nClermont Ave &amp; Lafayett...</td>\n",
       "      <td>08/15/2019 6:58:15 PM\\nProspect Pl &amp; Underhill...</td>\n",
       "      <td>10 min 12 s</td>\n",
       "    </tr>\n",
       "  </tbody>\n",
       "</table>\n",
       "</div>"
      ],
      "text/plain": [
       "   Unnamed: 0                                              Start  \\\n",
       "0         NaN  08/17/2019 3:37:14 PM\\nPier 40 - Hudson River ...   \n",
       "1         NaN          08/16/2019 4:45:24 PM\\nBroadway & W 37 St   \n",
       "2         NaN  08/15/2019 11:39:15 PM\\nRivington St & Chrysti...   \n",
       "3         NaN  08/15/2019 6:48:03 PM\\nClermont Ave & Lafayett...   \n",
       "\n",
       "                                                 End     Duration  \n",
       "0           08/17/2019 4:12:41 PM\\nE 2 St & Avenue B  35 min 27 s  \n",
       "1           08/16/2019 5:08:00 PM\\nE 2 St & Avenue B  22 min 36 s  \n",
       "2          08/15/2019 11:43:54 PM\\nE 2 St & Avenue B   4 min 39 s  \n",
       "3  08/15/2019 6:58:15 PM\\nProspect Pl & Underhill...  10 min 12 s  "
      ]
     },
     "execution_count": 5,
     "metadata": {},
     "output_type": "execute_result"
    }
   ],
   "source": [
    "#import my data and clean\n",
    "mycity = pd.read_csv('/Users/connortluck/Desktop/CityBikeYear.csv')\n",
    "#drop empty columns\n",
    "mycity = mycity.drop(columns = ['Unnamed: 4','Unnamed: 5','Unnamed: 6'])\n",
    "mycity.head(4)"
   ]
  },
  {
   "cell_type": "code",
   "execution_count": 6,
   "metadata": {},
   "outputs": [
    {
     "data": {
      "text/html": [
       "<div>\n",
       "<style scoped>\n",
       "    .dataframe tbody tr th:only-of-type {\n",
       "        vertical-align: middle;\n",
       "    }\n",
       "\n",
       "    .dataframe tbody tr th {\n",
       "        vertical-align: top;\n",
       "    }\n",
       "\n",
       "    .dataframe thead th {\n",
       "        text-align: right;\n",
       "    }\n",
       "</style>\n",
       "<table border=\"1\" class=\"dataframe\">\n",
       "  <thead>\n",
       "    <tr style=\"text-align: right;\">\n",
       "      <th></th>\n",
       "      <th>End Time</th>\n",
       "      <th>End Location</th>\n",
       "    </tr>\n",
       "  </thead>\n",
       "  <tbody>\n",
       "    <tr>\n",
       "      <td>0</td>\n",
       "      <td>08/17/2019 4:12:41 PM</td>\n",
       "      <td>E 2 St &amp; Avenue B</td>\n",
       "    </tr>\n",
       "    <tr>\n",
       "      <td>1</td>\n",
       "      <td>08/16/2019 5:08:00 PM</td>\n",
       "      <td>E 2 St &amp; Avenue B</td>\n",
       "    </tr>\n",
       "    <tr>\n",
       "      <td>2</td>\n",
       "      <td>08/15/2019 11:43:54 PM</td>\n",
       "      <td>E 2 St &amp; Avenue B</td>\n",
       "    </tr>\n",
       "    <tr>\n",
       "      <td>3</td>\n",
       "      <td>08/15/2019 6:58:15 PM</td>\n",
       "      <td>Prospect Pl &amp; Underhill Ave</td>\n",
       "    </tr>\n",
       "  </tbody>\n",
       "</table>\n",
       "</div>"
      ],
      "text/plain": [
       "                 End Time                 End Location\n",
       "0   08/17/2019 4:12:41 PM            E 2 St & Avenue B\n",
       "1   08/16/2019 5:08:00 PM            E 2 St & Avenue B\n",
       "2  08/15/2019 11:43:54 PM            E 2 St & Avenue B\n",
       "3   08/15/2019 6:58:15 PM  Prospect Pl & Underhill Ave"
      ]
     },
     "execution_count": 6,
     "metadata": {},
     "output_type": "execute_result"
    }
   ],
   "source": [
    "#2 column dataframe with just start time and start location\n",
    "startrides = mycity['Start'].str.split('\\n',expand=True)\n",
    "startrides = startrides.rename(columns={0:'Start Time', 1:'Start Location'})\n",
    "\n",
    "#repeat for end rides\n",
    "endrides = mycity['End'].str.split('\\n',expand=True)\n",
    "endrides = endrides.rename(columns={0:'End Time', 1:'End Location'})\n",
    "\n",
    "endrides.head(4)"
   ]
  },
  {
   "cell_type": "code",
   "execution_count": 7,
   "metadata": {},
   "outputs": [
    {
     "data": {
      "text/html": [
       "<div>\n",
       "<style scoped>\n",
       "    .dataframe tbody tr th:only-of-type {\n",
       "        vertical-align: middle;\n",
       "    }\n",
       "\n",
       "    .dataframe tbody tr th {\n",
       "        vertical-align: top;\n",
       "    }\n",
       "\n",
       "    .dataframe thead th {\n",
       "        text-align: right;\n",
       "    }\n",
       "</style>\n",
       "<table border=\"1\" class=\"dataframe\">\n",
       "  <thead>\n",
       "    <tr style=\"text-align: right;\">\n",
       "      <th></th>\n",
       "      <th>Start Time</th>\n",
       "      <th>Start Location</th>\n",
       "      <th>End Time</th>\n",
       "      <th>End Location</th>\n",
       "      <th>Total Ride Time</th>\n",
       "    </tr>\n",
       "  </thead>\n",
       "  <tbody>\n",
       "    <tr>\n",
       "      <td>0</td>\n",
       "      <td>2019-08-17 15:37:14</td>\n",
       "      <td>Pier 40 - Hudson River Park</td>\n",
       "      <td>2019-08-17 16:12:41</td>\n",
       "      <td>E 2 St &amp; Avenue B</td>\n",
       "      <td>00:35:27</td>\n",
       "    </tr>\n",
       "    <tr>\n",
       "      <td>1</td>\n",
       "      <td>2019-08-16 16:45:24</td>\n",
       "      <td>Broadway &amp; W 37 St</td>\n",
       "      <td>2019-08-16 17:08:00</td>\n",
       "      <td>E 2 St &amp; Avenue B</td>\n",
       "      <td>00:22:36</td>\n",
       "    </tr>\n",
       "    <tr>\n",
       "      <td>2</td>\n",
       "      <td>2019-08-15 23:39:15</td>\n",
       "      <td>Rivington St &amp; Chrystie St</td>\n",
       "      <td>2019-08-15 23:43:54</td>\n",
       "      <td>E 2 St &amp; Avenue B</td>\n",
       "      <td>00:04:39</td>\n",
       "    </tr>\n",
       "    <tr>\n",
       "      <td>3</td>\n",
       "      <td>2019-08-15 18:48:03</td>\n",
       "      <td>Clermont Ave &amp; Lafayette Ave</td>\n",
       "      <td>2019-08-15 18:58:15</td>\n",
       "      <td>Prospect Pl &amp; Underhill Ave</td>\n",
       "      <td>00:10:12</td>\n",
       "    </tr>\n",
       "  </tbody>\n",
       "</table>\n",
       "</div>"
      ],
      "text/plain": [
       "           Start Time                Start Location            End Time  \\\n",
       "0 2019-08-17 15:37:14   Pier 40 - Hudson River Park 2019-08-17 16:12:41   \n",
       "1 2019-08-16 16:45:24            Broadway & W 37 St 2019-08-16 17:08:00   \n",
       "2 2019-08-15 23:39:15    Rivington St & Chrystie St 2019-08-15 23:43:54   \n",
       "3 2019-08-15 18:48:03  Clermont Ave & Lafayette Ave 2019-08-15 18:58:15   \n",
       "\n",
       "                  End Location Total Ride Time  \n",
       "0            E 2 St & Avenue B        00:35:27  \n",
       "1            E 2 St & Avenue B        00:22:36  \n",
       "2            E 2 St & Avenue B        00:04:39  \n",
       "3  Prospect Pl & Underhill Ave        00:10:12  "
      ]
     },
     "execution_count": 7,
     "metadata": {},
     "output_type": "execute_result"
    }
   ],
   "source": [
    "#create a dataframe called \"rides\" that will contain start and end location for all of my ride history\n",
    "rides = pd.concat([startrides, endrides], axis=1, join='inner')\n",
    "\n",
    "#format to date time. \n",
    "rides['Start Time']= pd.to_datetime(rides['Start Time']) \n",
    "rides['End Time']= pd.to_datetime(rides['End Time']) \n",
    "rides['Total Ride Time'] = rides['End Time'] - rides['Start Time']\n",
    "\n",
    "rides.head(4)"
   ]
  },
  {
   "cell_type": "code",
   "execution_count": 8,
   "metadata": {},
   "outputs": [
    {
     "data": {
      "text/html": [
       "<div>\n",
       "<style scoped>\n",
       "    .dataframe tbody tr th:only-of-type {\n",
       "        vertical-align: middle;\n",
       "    }\n",
       "\n",
       "    .dataframe tbody tr th {\n",
       "        vertical-align: top;\n",
       "    }\n",
       "\n",
       "    .dataframe thead th {\n",
       "        text-align: right;\n",
       "    }\n",
       "</style>\n",
       "<table border=\"1\" class=\"dataframe\">\n",
       "  <thead>\n",
       "    <tr style=\"text-align: right;\">\n",
       "      <th></th>\n",
       "      <th>start station latitude</th>\n",
       "      <th>start station longitude</th>\n",
       "      <th>start station name</th>\n",
       "    </tr>\n",
       "    <tr>\n",
       "      <th>start station id</th>\n",
       "      <th></th>\n",
       "      <th></th>\n",
       "      <th></th>\n",
       "    </tr>\n",
       "  </thead>\n",
       "  <tbody>\n",
       "    <tr>\n",
       "      <td>72</td>\n",
       "      <td>40.767272</td>\n",
       "      <td>-73.993929</td>\n",
       "      <td>W 52 St &amp; 11 Ave</td>\n",
       "    </tr>\n",
       "    <tr>\n",
       "      <td>79</td>\n",
       "      <td>40.719116</td>\n",
       "      <td>-74.006667</td>\n",
       "      <td>Franklin St &amp; W Broadway</td>\n",
       "    </tr>\n",
       "  </tbody>\n",
       "</table>\n",
       "</div>"
      ],
      "text/plain": [
       "                  start station latitude  start station longitude  \\\n",
       "start station id                                                    \n",
       "72                             40.767272               -73.993929   \n",
       "79                             40.719116               -74.006667   \n",
       "\n",
       "                        start station name  \n",
       "start station id                            \n",
       "72                        W 52 St & 11 Ave  \n",
       "79                Franklin St & W Broadway  "
      ]
     },
     "execution_count": 8,
     "metadata": {},
     "output_type": "execute_result"
    }
   ],
   "source": [
    "#create data base of just station lat/long by start location and station id\n",
    "loc_data = bike_data[['start station id','end station id',\n",
    "                      'start station name','end station name', \n",
    "                      'start station latitude', 'start station longitude', \n",
    "                      'end station latitude', 'end station longitude']]\n",
    "\n",
    "station_info = loc_data[['start station id','start station latitude',\n",
    "                         'start station longitude','start station name']]\n",
    "\n",
    "station_info = station_info.groupby(['start station id']).max()\n",
    "station_info.rename(columns = {'start station name':'Start Location'})\n",
    "station_info.head(2)"
   ]
  },
  {
   "cell_type": "code",
   "execution_count": 9,
   "metadata": {},
   "outputs": [
    {
     "data": {
      "text/html": [
       "<div>\n",
       "<style scoped>\n",
       "    .dataframe tbody tr th:only-of-type {\n",
       "        vertical-align: middle;\n",
       "    }\n",
       "\n",
       "    .dataframe tbody tr th {\n",
       "        vertical-align: top;\n",
       "    }\n",
       "\n",
       "    .dataframe thead th {\n",
       "        text-align: right;\n",
       "    }\n",
       "</style>\n",
       "<table border=\"1\" class=\"dataframe\">\n",
       "  <thead>\n",
       "    <tr style=\"text-align: right;\">\n",
       "      <th></th>\n",
       "      <th>start station latitude</th>\n",
       "      <th>start station longitude</th>\n",
       "      <th>Start Location</th>\n",
       "    </tr>\n",
       "    <tr>\n",
       "      <th>start station id</th>\n",
       "      <th></th>\n",
       "      <th></th>\n",
       "      <th></th>\n",
       "    </tr>\n",
       "  </thead>\n",
       "  <tbody>\n",
       "    <tr>\n",
       "      <td>72</td>\n",
       "      <td>40.767272</td>\n",
       "      <td>-73.993929</td>\n",
       "      <td>W 52 St &amp; 11 Ave</td>\n",
       "    </tr>\n",
       "    <tr>\n",
       "      <td>79</td>\n",
       "      <td>40.719116</td>\n",
       "      <td>-74.006667</td>\n",
       "      <td>Franklin St &amp; W Broadway</td>\n",
       "    </tr>\n",
       "  </tbody>\n",
       "</table>\n",
       "</div>"
      ],
      "text/plain": [
       "                  start station latitude  start station longitude  \\\n",
       "start station id                                                    \n",
       "72                             40.767272               -73.993929   \n",
       "79                             40.719116               -74.006667   \n",
       "\n",
       "                            Start Location  \n",
       "start station id                            \n",
       "72                        W 52 St & 11 Ave  \n",
       "79                Franklin St & W Broadway  "
      ]
     },
     "execution_count": 9,
     "metadata": {},
     "output_type": "execute_result"
    }
   ],
   "source": [
    "#renamed Start Location so that we can merge on that column. \n",
    "station_info = station_info.rename(columns = {'start station name':'Start Location'})\n",
    "\n",
    "#data table for end station locations for second join.\n",
    "station_info_end = station_info.copy()\n",
    "station_info_end.head(2)"
   ]
  },
  {
   "cell_type": "code",
   "execution_count": 10,
   "metadata": {},
   "outputs": [],
   "source": [
    "#rename station info for ending locations not starting. \n",
    "station_info_end = station_info_end.rename(columns = {'start station id':'end station id','start station latitude':'end station latitude',\n",
    "                                                      'start station longitude':'end station longtiude','Start Location':'End Location'})\n",
    "\n",
    "\n",
    "#first joing for start stations\n",
    "df1 = rides\n",
    "df2 = station_info\n",
    "   \n",
    "inner_join = pd.merge(df1,  \n",
    "                      df2,  \n",
    "                      on ='Start Location',  \n",
    "                      how ='inner') \n",
    "rides = inner_join \n",
    "\n",
    "#second joing for end stations\n",
    "df1 = rides\n",
    "df2 = station_info_end\n",
    "   \n",
    "inner_join = pd.merge(df1,  \n",
    "                      df2,  \n",
    "                      on ='End Location',  \n",
    "                      how ='inner') \n",
    "rides = inner_join "
   ]
  },
  {
   "cell_type": "code",
   "execution_count": 11,
   "metadata": {},
   "outputs": [
    {
     "data": {
      "text/html": [
       "<div>\n",
       "<style scoped>\n",
       "    .dataframe tbody tr th:only-of-type {\n",
       "        vertical-align: middle;\n",
       "    }\n",
       "\n",
       "    .dataframe tbody tr th {\n",
       "        vertical-align: top;\n",
       "    }\n",
       "\n",
       "    .dataframe thead th {\n",
       "        text-align: right;\n",
       "    }\n",
       "</style>\n",
       "<table border=\"1\" class=\"dataframe\">\n",
       "  <thead>\n",
       "    <tr style=\"text-align: right;\">\n",
       "      <th></th>\n",
       "      <th>Start Time</th>\n",
       "      <th>Start Location</th>\n",
       "      <th>End Time</th>\n",
       "      <th>End Location</th>\n",
       "      <th>Total Ride Time</th>\n",
       "      <th>start station latitude</th>\n",
       "      <th>start station longitude</th>\n",
       "      <th>end station latitude</th>\n",
       "      <th>end station longtiude</th>\n",
       "    </tr>\n",
       "  </thead>\n",
       "  <tbody>\n",
       "    <tr>\n",
       "      <td>3</td>\n",
       "      <td>2019-01-12 12:04:52</td>\n",
       "      <td>Suffolk St &amp; Stanton St</td>\n",
       "      <td>2019-01-12 12:06:52</td>\n",
       "      <td>E 2 St &amp; Avenue B</td>\n",
       "      <td>00:02:00</td>\n",
       "      <td>40.720664</td>\n",
       "      <td>-73.985180</td>\n",
       "      <td>40.722174</td>\n",
       "      <td>-73.983688</td>\n",
       "    </tr>\n",
       "    <tr>\n",
       "      <td>65</td>\n",
       "      <td>2019-01-12 12:23:25</td>\n",
       "      <td>E 2 St &amp; Avenue B</td>\n",
       "      <td>2019-01-12 12:27:20</td>\n",
       "      <td>E 7 St &amp; Avenue A</td>\n",
       "      <td>00:03:55</td>\n",
       "      <td>40.722174</td>\n",
       "      <td>-73.983688</td>\n",
       "      <td>40.726218</td>\n",
       "      <td>-73.983799</td>\n",
       "    </tr>\n",
       "    <tr>\n",
       "      <td>37</td>\n",
       "      <td>2019-01-12 12:39:59</td>\n",
       "      <td>E 7 St &amp; Avenue A</td>\n",
       "      <td>2019-01-12 12:45:13</td>\n",
       "      <td>E 2 St &amp; Avenue B</td>\n",
       "      <td>00:05:14</td>\n",
       "      <td>40.726218</td>\n",
       "      <td>-73.983799</td>\n",
       "      <td>40.722174</td>\n",
       "      <td>-73.983688</td>\n",
       "    </tr>\n",
       "    <tr>\n",
       "      <td>64</td>\n",
       "      <td>2019-01-13 11:55:36</td>\n",
       "      <td>E 2 St &amp; Avenue B</td>\n",
       "      <td>2019-01-13 12:01:25</td>\n",
       "      <td>E 11 St &amp; 2 Ave</td>\n",
       "      <td>00:05:49</td>\n",
       "      <td>40.722174</td>\n",
       "      <td>-73.983688</td>\n",
       "      <td>40.730473</td>\n",
       "      <td>-73.986724</td>\n",
       "    </tr>\n",
       "    <tr>\n",
       "      <td>36</td>\n",
       "      <td>2019-01-13 15:52:46</td>\n",
       "      <td>E 11 St &amp; 2 Ave</td>\n",
       "      <td>2019-01-13 15:58:47</td>\n",
       "      <td>E 2 St &amp; Avenue B</td>\n",
       "      <td>00:06:01</td>\n",
       "      <td>40.730473</td>\n",
       "      <td>-73.986724</td>\n",
       "      <td>40.722174</td>\n",
       "      <td>-73.983688</td>\n",
       "    </tr>\n",
       "  </tbody>\n",
       "</table>\n",
       "</div>"
      ],
      "text/plain": [
       "            Start Time           Start Location            End Time  \\\n",
       "3  2019-01-12 12:04:52  Suffolk St & Stanton St 2019-01-12 12:06:52   \n",
       "65 2019-01-12 12:23:25        E 2 St & Avenue B 2019-01-12 12:27:20   \n",
       "37 2019-01-12 12:39:59        E 7 St & Avenue A 2019-01-12 12:45:13   \n",
       "64 2019-01-13 11:55:36        E 2 St & Avenue B 2019-01-13 12:01:25   \n",
       "36 2019-01-13 15:52:46          E 11 St & 2 Ave 2019-01-13 15:58:47   \n",
       "\n",
       "         End Location Total Ride Time  start station latitude  \\\n",
       "3   E 2 St & Avenue B        00:02:00               40.720664   \n",
       "65  E 7 St & Avenue A        00:03:55               40.722174   \n",
       "37  E 2 St & Avenue B        00:05:14               40.726218   \n",
       "64    E 11 St & 2 Ave        00:05:49               40.722174   \n",
       "36  E 2 St & Avenue B        00:06:01               40.730473   \n",
       "\n",
       "    start station longitude  end station latitude  end station longtiude  \n",
       "3                -73.985180             40.722174             -73.983688  \n",
       "65               -73.983688             40.726218             -73.983799  \n",
       "37               -73.983799             40.722174             -73.983688  \n",
       "64               -73.983688             40.730473             -73.986724  \n",
       "36               -73.986724             40.722174             -73.983688  "
      ]
     },
     "execution_count": 11,
     "metadata": {},
     "output_type": "execute_result"
    }
   ],
   "source": [
    "rides = rides.sort_values(by=['Start Time'])\n",
    "rides.head()"
   ]
  },
  {
   "cell_type": "code",
   "execution_count": 12,
   "metadata": {},
   "outputs": [
    {
     "data": {
      "text/plain": [
       "70"
      ]
     },
     "execution_count": 12,
     "metadata": {},
     "output_type": "execute_result"
    }
   ],
   "source": [
    "total_rides = rides.count()[0]\n",
    "total_rides"
   ]
  },
  {
   "cell_type": "code",
   "execution_count": 13,
   "metadata": {},
   "outputs": [
    {
     "data": {
      "text/plain": [
       "216"
      ]
     },
     "execution_count": 13,
     "metadata": {},
     "output_type": "execute_result"
    }
   ],
   "source": [
    "time_period = (rides['Start Time'].iloc[-1]-rides['Start Time'].iloc[0]).days\n",
    "time_period"
   ]
  },
  {
   "cell_type": "code",
   "execution_count": 14,
   "metadata": {},
   "outputs": [
    {
     "data": {
      "text/plain": [
       "0.32"
      ]
     },
     "execution_count": 14,
     "metadata": {},
     "output_type": "execute_result"
    }
   ],
   "source": [
    "#rides per day\n",
    "rides_per_day = total_rides/time_period\n",
    "rides_per_day.round(2)"
   ]
  },
  {
   "cell_type": "code",
   "execution_count": 15,
   "metadata": {},
   "outputs": [
    {
     "data": {
      "text/html": [
       "<div>\n",
       "<style scoped>\n",
       "    .dataframe tbody tr th:only-of-type {\n",
       "        vertical-align: middle;\n",
       "    }\n",
       "\n",
       "    .dataframe tbody tr th {\n",
       "        vertical-align: top;\n",
       "    }\n",
       "\n",
       "    .dataframe thead th {\n",
       "        text-align: right;\n",
       "    }\n",
       "</style>\n",
       "<table border=\"1\" class=\"dataframe\">\n",
       "  <thead>\n",
       "    <tr style=\"text-align: right;\">\n",
       "      <th></th>\n",
       "      <th>Start Time</th>\n",
       "      <th>Start Location</th>\n",
       "      <th>End Time</th>\n",
       "      <th>End Location</th>\n",
       "      <th>Total Ride Time</th>\n",
       "      <th>start station latitude</th>\n",
       "      <th>start station longitude</th>\n",
       "      <th>end station latitude</th>\n",
       "      <th>end station longtiude</th>\n",
       "      <th>Day of Week</th>\n",
       "    </tr>\n",
       "  </thead>\n",
       "  <tbody>\n",
       "    <tr>\n",
       "      <td>3</td>\n",
       "      <td>2019-01-12 12:04:52</td>\n",
       "      <td>Suffolk St &amp; Stanton St</td>\n",
       "      <td>2019-01-12 12:06:52</td>\n",
       "      <td>E 2 St &amp; Avenue B</td>\n",
       "      <td>00:02:00</td>\n",
       "      <td>40.720664</td>\n",
       "      <td>-73.985180</td>\n",
       "      <td>40.722174</td>\n",
       "      <td>-73.983688</td>\n",
       "      <td>Saturday</td>\n",
       "    </tr>\n",
       "    <tr>\n",
       "      <td>65</td>\n",
       "      <td>2019-01-12 12:23:25</td>\n",
       "      <td>E 2 St &amp; Avenue B</td>\n",
       "      <td>2019-01-12 12:27:20</td>\n",
       "      <td>E 7 St &amp; Avenue A</td>\n",
       "      <td>00:03:55</td>\n",
       "      <td>40.722174</td>\n",
       "      <td>-73.983688</td>\n",
       "      <td>40.726218</td>\n",
       "      <td>-73.983799</td>\n",
       "      <td>Saturday</td>\n",
       "    </tr>\n",
       "  </tbody>\n",
       "</table>\n",
       "</div>"
      ],
      "text/plain": [
       "            Start Time           Start Location            End Time  \\\n",
       "3  2019-01-12 12:04:52  Suffolk St & Stanton St 2019-01-12 12:06:52   \n",
       "65 2019-01-12 12:23:25        E 2 St & Avenue B 2019-01-12 12:27:20   \n",
       "\n",
       "         End Location Total Ride Time  start station latitude  \\\n",
       "3   E 2 St & Avenue B        00:02:00               40.720664   \n",
       "65  E 7 St & Avenue A        00:03:55               40.722174   \n",
       "\n",
       "    start station longitude  end station latitude  end station longtiude  \\\n",
       "3                -73.985180             40.722174             -73.983688   \n",
       "65               -73.983688             40.726218             -73.983799   \n",
       "\n",
       "   Day of Week  \n",
       "3     Saturday  \n",
       "65    Saturday  "
      ]
     },
     "execution_count": 15,
     "metadata": {},
     "output_type": "execute_result"
    }
   ],
   "source": [
    "#add Day of Week to rides data frame\n",
    "rides['Day of Week'] = rides['Start Time'].dt.dayofweek\n",
    "day_of_week_dict=dict(enumerate(calendar.day_name))\n",
    "rides = rides.replace({\"Day of Week\": day_of_week_dict})\n",
    "rides.head(2)"
   ]
  },
  {
   "cell_type": "code",
   "execution_count": 16,
   "metadata": {},
   "outputs": [
    {
     "data": {
      "text/plain": [
       "{0: 'Monday',\n",
       " 1: 'Tuesday',\n",
       " 2: 'Wednesday',\n",
       " 3: 'Thursday',\n",
       " 4: 'Friday',\n",
       " 5: 'Saturday',\n",
       " 6: 'Sunday'}"
      ]
     },
     "execution_count": 16,
     "metadata": {},
     "output_type": "execute_result"
    }
   ],
   "source": [
    "#find out what day of week rides occured from time methods.\n",
    "rides['Day of Week'] = rides['Start Time'].dt.dayofweek\n",
    "day_of_week_dict=dict(enumerate(calendar.day_name))\n",
    "day_of_week_dict"
   ]
  },
  {
   "cell_type": "code",
   "execution_count": 17,
   "metadata": {},
   "outputs": [
    {
     "data": {
      "text/plain": [
       "Day of Week\n",
       "Friday       15\n",
       "Monday        2\n",
       "Saturday     17\n",
       "Sunday       13\n",
       "Thursday      6\n",
       "Tuesday       7\n",
       "Wednesday    10\n",
       "Name: Start Time, dtype: int64"
      ]
     },
     "execution_count": 17,
     "metadata": {},
     "output_type": "execute_result"
    }
   ],
   "source": [
    "#group dataframe by day of week\n",
    "rides = rides.replace({\"Day of Week\": day_of_week_dict})\n",
    "rides_dow_grouped = rides.groupby(by='Day of Week')\n",
    "rides_dow_grouped.count()['Start Time']"
   ]
  },
  {
   "cell_type": "code",
   "execution_count": 18,
   "metadata": {},
   "outputs": [
    {
     "data": {
      "text/html": [
       "<div>\n",
       "<style scoped>\n",
       "    .dataframe tbody tr th:only-of-type {\n",
       "        vertical-align: middle;\n",
       "    }\n",
       "\n",
       "    .dataframe tbody tr th {\n",
       "        vertical-align: top;\n",
       "    }\n",
       "\n",
       "    .dataframe thead th {\n",
       "        text-align: right;\n",
       "    }\n",
       "</style>\n",
       "<table border=\"1\" class=\"dataframe\">\n",
       "  <thead>\n",
       "    <tr style=\"text-align: right;\">\n",
       "      <th></th>\n",
       "      <th>Count</th>\n",
       "    </tr>\n",
       "    <tr>\n",
       "      <th>Day of Week</th>\n",
       "      <th></th>\n",
       "    </tr>\n",
       "  </thead>\n",
       "  <tbody>\n",
       "    <tr>\n",
       "      <td>Monday</td>\n",
       "      <td>2</td>\n",
       "    </tr>\n",
       "    <tr>\n",
       "      <td>Thursday</td>\n",
       "      <td>6</td>\n",
       "    </tr>\n",
       "    <tr>\n",
       "      <td>Tuesday</td>\n",
       "      <td>7</td>\n",
       "    </tr>\n",
       "    <tr>\n",
       "      <td>Wednesday</td>\n",
       "      <td>10</td>\n",
       "    </tr>\n",
       "    <tr>\n",
       "      <td>Sunday</td>\n",
       "      <td>13</td>\n",
       "    </tr>\n",
       "    <tr>\n",
       "      <td>Friday</td>\n",
       "      <td>15</td>\n",
       "    </tr>\n",
       "    <tr>\n",
       "      <td>Saturday</td>\n",
       "      <td>17</td>\n",
       "    </tr>\n",
       "  </tbody>\n",
       "</table>\n",
       "</div>"
      ],
      "text/plain": [
       "             Count\n",
       "Day of Week       \n",
       "Monday           2\n",
       "Thursday         6\n",
       "Tuesday          7\n",
       "Wednesday       10\n",
       "Sunday          13\n",
       "Friday          15\n",
       "Saturday        17"
      ]
     },
     "execution_count": 18,
     "metadata": {},
     "output_type": "execute_result"
    }
   ],
   "source": [
    "#create new clean dataframe(used for graph) two columns, day of week and count.\n",
    "d= {'Count': rides_dow_grouped.count()['Start Time']}\n",
    "weekdata = pd.DataFrame(data=d)\n",
    "weekdata = weekdata.sort_values(by = 'Count')\n",
    "weekdata"
   ]
  },
  {
   "cell_type": "code",
   "execution_count": 19,
   "metadata": {},
   "outputs": [],
   "source": [
    "#create a copy of rides for working purposes. \n",
    "copy_rides = rides"
   ]
  },
  {
   "cell_type": "code",
   "execution_count": 20,
   "metadata": {},
   "outputs": [
    {
     "data": {
      "text/plain": [
       "Text(0.5, 1.0, 'Ride Count Per Day')"
      ]
     },
     "execution_count": 20,
     "metadata": {},
     "output_type": "execute_result"
    },
    {
     "data": {
      "image/png": "[encoded data removed]",
      "text/plain": [
       "<Figure size 720x360 with 1 Axes>"
      ]
     },
     "metadata": {},
     "output_type": "display_data"
    }
   ],
   "source": [
    "#bar plot showing ride count data for each day of the week. \n",
    "sns.set(style=\"whitegrid\")\n",
    "plt.figure(figsize=(10,5))\n",
    "chart = sns.barplot(x=weekdata.index, \n",
    "                    y=\"Count\", \n",
    "                    data=weekdata,\n",
    "                    color='#4175A4',)\n",
    "chart.set(xlabel=\"Day of Week\", ylabel = \"Ride Count\")\n",
    "chart.set_xticklabels(chart.get_xticklabels(), rotation=0)\n",
    "chart.set_title('Ride Count Per Day', pad = 20, fontdict={'fontsize' : 16})\n"
   ]
  },
  {
   "cell_type": "code",
   "execution_count": 21,
   "metadata": {},
   "outputs": [
    {
     "data": {
      "text/plain": [
       "Hour\n",
       "8     1\n",
       "10    3\n",
       "Name: Start Time, dtype: int64"
      ]
     },
     "execution_count": 21,
     "metadata": {},
     "output_type": "execute_result"
    }
   ],
   "source": [
    "#Graphing out the ride count by hour of the day (all rides)\n",
    "copy_rides['Hour'] = copy_rides['Start Time'].dt.floor('H')\n",
    "copy_rides['Hour'] = copy_rides['Hour'].dt.hour\n",
    "\n",
    "#hour_data_sorted\n",
    "groupbyhour = copy_rides.groupby('Hour')\n",
    "hour_data_sorted = groupbyhour.count().sort_values(by=['Hour'])\n",
    "hour_data_sorted.head(2)['Start Time']"
   ]
  },
  {
   "cell_type": "code",
   "execution_count": 22,
   "metadata": {},
   "outputs": [
    {
     "data": {
      "text/plain": [
       "Text(0.5, 1.0, 'Rides Per Hour of the Day')"
      ]
     },
     "execution_count": 22,
     "metadata": {},
     "output_type": "execute_result"
    },
    {
     "data": {
      "image/png": "[encoded data removed]",
      "text/plain": [
       "<Figure size 720x360 with 1 Axes>"
      ]
     },
     "metadata": {},
     "output_type": "display_data"
    },
    {
     "data": {
      "image/png": "[encoded data removed]",
      "text/plain": [
       "<Figure size 720x360 with 1 Axes>"
      ]
     },
     "metadata": {},
     "output_type": "display_data"
    }
   ],
   "source": [
    "#plot\n",
    "plt.figure(figsize=(10,5))\n",
    "ax = sns.lineplot(x=hour_data_sorted.index, y=\"Start Time\",\n",
    "                  markers = True,\n",
    "                  data=hour_data_sorted,\n",
    "                  color = '#E2AA40'\n",
    "                 )\n",
    "ax.set(xlabel=\"Ride Start Time (Hour)\", ylabel = \"Ride Count\")\n",
    "ax.set_title('Rides Per Hour of the Day', pad=20, fontdict={'fontsize' : 16})\n",
    "\n",
    "sns.set(style=\"whitegrid\")\n",
    "plt.figure(figsize=(10,5))\n",
    "chart = sns.barplot(x=hour_data_sorted.index, \n",
    "                    y=\"Start Time\", \n",
    "                    data=hour_data_sorted,\n",
    "                    color = '#4175A4')\n",
    "chart.set(xlabel=\"Ride Start Time (Hour)\", ylabel = \"Ride Count\")\n",
    "chart.set_title('Rides Per Hour of the Day', pad=20, fontdict={'fontsize' : 16})"
   ]
  },
  {
   "cell_type": "code",
   "execution_count": 23,
   "metadata": {},
   "outputs": [
    {
     "name": "stdout",
     "output_type": "stream",
     "text": [
      "['Sunday' 'Saturday']\n"
     ]
    }
   ],
   "source": [
    "#sort dataframe for weekend only rides\n",
    "weekend_rides_hourly = copy_rides[(copy_rides['Day of Week'] == 'Saturday') | (copy_rides['Day of Week'] == 'Sunday')].sort_values(by='Hour')\n",
    "print(weekend_rides_hourly['Day of Week'].unique())"
   ]
  },
  {
   "cell_type": "code",
   "execution_count": 24,
   "metadata": {},
   "outputs": [
    {
     "name": "stdout",
     "output_type": "stream",
     "text": [
      "['Tuesday' 'Friday' 'Wednesday' 'Thursday' 'Monday']\n"
     ]
    }
   ],
   "source": [
    "#sort data frame for weekday only rides \n",
    "weekday_rides_hourly = (copy_rides[(copy_rides['Day of Week'] != 'Saturday') & (copy_rides['Day of Week'] != 'Sunday')]).sort_values(by='Hour')\n",
    "print(weekday_rides_hourly['Day of Week'].unique())"
   ]
  },
  {
   "cell_type": "code",
   "execution_count": 25,
   "metadata": {},
   "outputs": [
    {
     "data": {
      "text/plain": [
       "True"
      ]
     },
     "execution_count": 25,
     "metadata": {},
     "output_type": "execute_result"
    }
   ],
   "source": [
    "#confirm all entries to 70. \n",
    "weekday_rides_hourly['Day of Week'].count() + weekend_rides_hourly['Day of Week'].count() == 70"
   ]
  },
  {
   "cell_type": "code",
   "execution_count": 26,
   "metadata": {},
   "outputs": [],
   "source": [
    "#format with grouping and count for plotting purposes\n",
    "weekend_rides_hourlygrouped = copy_rides[(copy_rides['Day of Week'] == 'Saturday') | (copy_rides['Day of Week'] == 'Sunday')].sort_values(by='Hour').groupby('Hour').count()\n",
    "weekday_rides_hourlygrouped = (copy_rides[(copy_rides['Day of Week'] != 'Saturday') & (copy_rides['Day of Week'] != 'Sunday')]).sort_values(by='Hour').groupby('Hour').count()\n"
   ]
  },
  {
   "cell_type": "code",
   "execution_count": 27,
   "metadata": {},
   "outputs": [
    {
     "data": {
      "image/png": "[encoded data removed]",
      "text/plain": [
       "<Figure size 720x360 with 1 Axes>"
      ]
     },
     "metadata": {},
     "output_type": "display_data"
    }
   ],
   "source": [
    "#plotting\n",
    "plt.figure(figsize=(10,5))\n",
    "gx = sns.lineplot(x=weekend_rides_hourlygrouped.index, y=\"Start Time\",\n",
    "                  markers = True,\n",
    "                  data=weekend_rides_hourlygrouped).set_title('Weekend vs Weekday Ride Counts',pad=20,fontdict={'fontsize' : 16})\n",
    "\n",
    "\n",
    "gx = sns.lineplot(x=weekday_rides_hourlygrouped.index, y=\"Start Time\",\n",
    "                  markers = True,\n",
    "                  data=weekday_rides_hourlygrouped)\n",
    "plt.legend(title='Legend', loc='upper left', labels=['Weekday', 'Weekend'])\n",
    "gx.set(xlabel=\"Ride Start Time (Hour)\", ylabel = \"Ride Count\")\n",
    "plt.show(gx)"
   ]
  },
  {
   "cell_type": "code",
   "execution_count": 28,
   "metadata": {},
   "outputs": [
    {
     "data": {
      "text/plain": [
       "Text(0.5, 1.0, 'Ride Departure Location Count')"
      ]
     },
     "execution_count": 28,
     "metadata": {},
     "output_type": "execute_result"
    },
    {
     "data": {
      "image/png": "[encoded data removed]",
      "text/plain": [
       "<Figure size 720x360 with 1 Axes>"
      ]
     },
     "metadata": {},
     "output_type": "display_data"
    }
   ],
   "source": [
    "\n",
    "#Graphing out ride count by start station location\n",
    "groupedrides = copy_rides.groupby('Start Location',as_index = False)\n",
    "groupedrides = groupedrides.count().sort_values(by=['Start Time'])\n",
    "\n",
    "\n",
    "sns.set(style=\"whitegrid\")\n",
    "plt.figure(figsize=(10,5))\n",
    "chart = sns.barplot(x=\"Start Location\", \n",
    "                    y=\"Start Time\", \n",
    "                    data=groupedrides,\n",
    "                    color = '#4175A4')\n",
    "chart.set(xlabel=\"Start Station Location\", ylabel = \"Ride Count\")\n",
    "chart.set_xticklabels(chart.get_xticklabels(), rotation=90)\n",
    "chart.set_title('Ride Departure Location Count', pad = 20, fontdict={'fontsize' : 16})\n",
    "\n"
   ]
  },
  {
   "cell_type": "code",
   "execution_count": 30,
   "metadata": {},
   "outputs": [],
   "source": [
    "#for use in the mapping\n",
    "rides.to_csv('rides.csv')"
   ]
  },
  {
   "cell_type": "code",
   "execution_count": null,
   "metadata": {},
   "outputs": [],
   "source": []
  }
 ],
 "metadata": {
  "kernelspec": {
   "display_name": "Python 3",
   "language": "python",
   "name": "python3"
  },
  "language_info": {
   "codemirror_mode": {
    "name": "ipython",
    "version": 3
   },
   "file_extension": ".py",
   "mimetype": "text/x-python",
   "name": "python",
   "nbconvert_exporter": "python",
   "pygments_lexer": "ipython3",
   "version": "3.7.4"
  }
 },
 "nbformat": 4,
 "nbformat_minor": 2
}
