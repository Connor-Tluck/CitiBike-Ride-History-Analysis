{
 "cells": [
  {
   "cell_type": "code",
   "execution_count": 1,
   "metadata": {},
   "outputs": [],
   "source": [
    "import os\n",
    "import gmaps\n",
    "import googlemaps\n",
    "\n",
    "import polyline\n",
    "import calendar\n",
    "import folium\n",
    "\n",
    "import pandas as pd\n",
    "import seaborn as sns\n",
    "from matplotlib import pyplot as plt\n",
    "%matplotlib inline\n"
   ]
  },
  {
   "cell_type": "code",
   "execution_count": 2,
   "metadata": {},
   "outputs": [
    {
     "ename": "NameError",
     "evalue": "name 'rides' is not defined",
     "output_type": "error",
     "traceback": [
      "\u001b[0;31m---------------------------------------------------------------------------\u001b[0m",
      "\u001b[0;31mNameError\u001b[0m                                 Traceback (most recent call last)",
      "\u001b[0;32m<ipython-input-2-9592d8740189>\u001b[0m in \u001b[0;36m<module>\u001b[0;34m\u001b[0m\n\u001b[1;32m     11\u001b[0m \u001b[0mtrip_container\u001b[0m \u001b[0;34m=\u001b[0m \u001b[0;34m[\u001b[0m\u001b[0;34m]\u001b[0m\u001b[0;34m\u001b[0m\u001b[0;34m\u001b[0m\u001b[0m\n\u001b[1;32m     12\u001b[0m \u001b[0;31m#generate a listo of .direction formatted trips. Utilize the Bicycle mode.\u001b[0m\u001b[0;34m\u001b[0m\u001b[0;34m\u001b[0m\u001b[0;34m\u001b[0m\u001b[0m\n\u001b[0;32m---> 13\u001b[0;31m \u001b[0;32mfor\u001b[0m \u001b[0mindex\u001b[0m\u001b[0;34m,\u001b[0m \u001b[0mrow\u001b[0m \u001b[0;32min\u001b[0m \u001b[0mrides\u001b[0m\u001b[0;34m.\u001b[0m\u001b[0miterrows\u001b[0m\u001b[0;34m(\u001b[0m\u001b[0;34m)\u001b[0m\u001b[0;34m:\u001b[0m\u001b[0;34m\u001b[0m\u001b[0;34m\u001b[0m\u001b[0m\n\u001b[0m\u001b[1;32m     14\u001b[0m     \u001b[0mstart_point\u001b[0m \u001b[0;34m=\u001b[0m \u001b[0;34m(\u001b[0m\u001b[0mrides\u001b[0m\u001b[0;34m[\u001b[0m\u001b[0;34m'start station latitude'\u001b[0m\u001b[0;34m]\u001b[0m\u001b[0;34m[\u001b[0m\u001b[0mindex\u001b[0m\u001b[0;34m]\u001b[0m\u001b[0;34m)\u001b[0m\u001b[0;34m,\u001b[0m\u001b[0;34m(\u001b[0m\u001b[0mrides\u001b[0m\u001b[0;34m[\u001b[0m\u001b[0;34m'start station longitude'\u001b[0m\u001b[0;34m]\u001b[0m\u001b[0;34m[\u001b[0m\u001b[0mindex\u001b[0m\u001b[0;34m]\u001b[0m\u001b[0;34m)\u001b[0m\u001b[0;34m\u001b[0m\u001b[0;34m\u001b[0m\u001b[0m\n\u001b[1;32m     15\u001b[0m     \u001b[0mstop_point\u001b[0m \u001b[0;34m=\u001b[0m \u001b[0;34m(\u001b[0m\u001b[0mrides\u001b[0m\u001b[0;34m[\u001b[0m\u001b[0;34m'end station latitude'\u001b[0m\u001b[0;34m]\u001b[0m\u001b[0;34m[\u001b[0m\u001b[0mindex\u001b[0m\u001b[0;34m]\u001b[0m\u001b[0;34m)\u001b[0m\u001b[0;34m,\u001b[0m\u001b[0;34m(\u001b[0m\u001b[0mrides\u001b[0m\u001b[0;34m[\u001b[0m\u001b[0;34m'end station longtiude'\u001b[0m\u001b[0;34m]\u001b[0m\u001b[0;34m[\u001b[0m\u001b[0mindex\u001b[0m\u001b[0;34m]\u001b[0m\u001b[0;34m)\u001b[0m\u001b[0;34m\u001b[0m\u001b[0;34m\u001b[0m\u001b[0m\n",
      "\u001b[0;31mNameError\u001b[0m: name 'rides' is not defined"
     ]
    }
   ],
   "source": [
    "#this is final map product\n",
    "google_maps = googlemaps.Client(key=os.environ[\"GOOGLE_API_KEY\"])\n",
    "gmaps.configure(api_key=os.environ[\"GOOGLE_API_KEY\"])\n",
    "\n",
    "#create the map object\n",
    "folium_map = folium.Map(location=(40.742354,-73.989151),\n",
    "                        zoom_start=13,\n",
    "                        tiles=\"CartoDB dark_matter\")\n",
    "\n",
    "\n",
    "trip_container = []    \n",
    "#generate a listo of .direction formatted trips. Utilize the Bicycle mode. \n",
    "for index, row in rides.iterrows():\n",
    "    start_point = (rides['start station latitude'][index]),(rides['start station longitude'][index])\n",
    "    stop_point = (rides['end station latitude'][index]),(rides['end station longtiude'][index])\n",
    "    trip = google_maps.directions(start_point,stop_point, mode='bicycling')\n",
    "    trip_container.append(trip) \n",
    "print(trip_container[0])"
   ]
  },
  {
   "cell_type": "code",
   "execution_count": null,
   "metadata": {},
   "outputs": [],
   "source": [
    "#we want the polyline information so we will need to dig through the describe \n",
    "#function output through lists and dictionaries untill we get to EACH \n",
    "trip_container[0][0].keys()"
   ]
  },
  {
   "cell_type": "code",
   "execution_count": null,
   "metadata": {},
   "outputs": [],
   "source": [
    "trip_container[0][0]['legs'][0]['steps'][0]"
   ]
  },
  {
   "cell_type": "code",
   "execution_count": null,
   "metadata": {},
   "outputs": [],
   "source": [
    "#here we have dug down to the individual point polyline information \n",
    "#in the code below we must iterate through each and every step and point to get\n",
    "#full polyline information for graphing purposes. \n",
    "trip_container[0][0]['legs'][0]['steps'][0]['polyline']"
   ]
  },
  {
   "cell_type": "code",
   "execution_count": null,
   "metadata": {},
   "outputs": [],
   "source": [
    "#cycle through trips and upack poly line information. \n",
    "all_processed_trips = []\n",
    "subtrips = []\n",
    "for each_trip in trip_container:\n",
    "    processing_trip = each_trip[0]['legs'][0]['steps']\n",
    "    for steps in processing_trip:\n",
    "        subtrips.append(polyline.decode(str(steps.get('polyline')['points'])))\n",
    "    all_processed_trips.append(subtrips)\n",
    "            \n",
    "#display on map\n",
    "for allsteps in all_processed_trips:\n",
    "    folium.PolyLine(allsteps, weight=4, \n",
    "                    opacity = .01, \n",
    "                    popup='Bike Routes').add_to(folium_map)\n",
    "\n",
    "    \n",
    " #add work location marker for reference    \n",
    "home_address = google_maps.geocode('201 East Second Street, New York, NY')\n",
    "work_address = google_maps.geocode('500 7th Ave, New York, NY 10018')\n",
    "\n",
    "folium.CircleMarker(\n",
    "    location=[work_address[0]['geometry']['viewport']['northeast']['lat'], \n",
    "              work_address[0]['geometry']['viewport']['northeast']['lng']],\n",
    "    radius=2.5,\n",
    "    tooltip='Work: ' +  '500 7th Ave, New York, NY 10018',\n",
    "    color='#DEAC12',\n",
    "    fill=True,\n",
    "    fill_color='#DEAC12'\n",
    ").add_to(folium_map)\n",
    "    \n",
    "#add home location for reference    \n",
    "folium.CircleMarker(\n",
    "    location=[home_address[0]['geometry']['viewport']['northeast']['lat'], \n",
    "              home_address[0]['geometry']['viewport']['northeast']['lng']],\n",
    "    radius=2.5,\n",
    "    tooltip='Home: ' + '201 East Second Street, New York, NY',\n",
    "    color='#DEAC12',\n",
    "    fill=True,\n",
    "    fill_color='#DEAC12'\n",
    ").add_to(folium_map)\n",
    " \n",
    "#add station coloring for all start and stop stations. \n",
    "#This code creates lists of points Markers come after.\n",
    "startstations = []\n",
    "stopstations = []\n",
    "\n",
    "for index, row in rides.iterrows():\n",
    "    starttest = (rides['start station latitude'][index]),(rides['start station longitude'][index])\n",
    "    stoptest = (rides['end station latitude'][index]),(rides['end station longtiude'][index])\n",
    "    startstations.append(starttest)\n",
    "    stopstations.append(stoptest)\n",
    "\n",
    "    \n",
    "    \n",
    "#Blue is arrival.\n",
    "#Orange is departure. \n",
    "for lat,long in startstations:\n",
    "    color=\"#E37222\" \n",
    "    folium.CircleMarker(location=(lat,long),\n",
    "                        radius=2,\n",
    "                        color=color,\n",
    "                        fill=True).add_to(folium_map)\n",
    "\n",
    "    \n",
    "for lat,long in stopstations:\n",
    "    color=\"#0A8A9F\" \n",
    "    folium.CircleMarker(location=(lat,long),\n",
    "                        radius=2,\n",
    "                        color=color,\n",
    "                        fill=True).add_to(folium_map)    \n",
    "    \n",
    "\n",
    "# Optional HTML export\n",
    "# folium_map.save('testmap.html')\n",
    "\n",
    "# Map generation inline with jypter notebook.   \n",
    "folium_map    \n",
    "\n",
    "    "
   ]
  }
 ],
 "metadata": {
  "kernelspec": {
   "display_name": "Python 3",
   "language": "python",
   "name": "python3"
  },
  "language_info": {
   "codemirror_mode": {
    "name": "ipython",
    "version": 3
   },
   "file_extension": ".py",
   "mimetype": "text/x-python",
   "name": "python",
   "nbconvert_exporter": "python",
   "pygments_lexer": "ipython3",
   "version": "3.7.4"
  }
 },
 "nbformat": 4,
 "nbformat_minor": 2
}
